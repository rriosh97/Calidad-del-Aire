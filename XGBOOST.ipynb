{
 "cells": [
  {
   "cell_type": "code",
   "execution_count": 4,
   "id": "15050380",
   "metadata": {},
   "outputs": [
    {
     "name": "stdout",
     "output_type": "stream",
     "text": [
      "Imported auto_timeseries version:0.0.90. Call by using:\n",
      "model = auto_timeseries(score_type='rmse',\n",
      "        time_interval='M', non_seasonal_pdq=None, seasonality=False,\n",
      "        seasonal_period=12, model_type=['best'], verbose=2, dask_xgboost_flag=0)\n",
      "model.fit(traindata, ts_column,target)\n",
      "model.predict(testdata, model='best')\n",
      "\n"
     ]
    }
   ],
   "source": [
    "import numpy as np # linear algebra\n",
    "import pandas as pd # data processing, CSV file I/O (e.g. pd.read_csv)\n",
    "import seaborn as sns\n",
    "import matplotlib.pyplot as plt\n",
    "import xgboost as xgb\n",
    "import datetime as dt\n",
    "from xgboost import plot_importance, plot_tree\n",
    "from auto_ts import auto_timeseries as ATS\n",
    "from sklearn.model_selection import cross_val_score, KFold\n",
    "from sklearn.metrics import mean_squared_error\n",
    "from sklearn.metrics import mean_absolute_error\n",
    "from sklearn.metrics import r2_score\n",
    "plt.style.use('fivethirtyeight')"
   ]
  },
  {
   "cell_type": "code",
   "execution_count": 7,
   "id": "5c47398f",
   "metadata": {},
   "outputs": [],
   "source": [
    "ruta_archivo = '/Users/macronald/U Central/Tesis Maestria Calidad/Insumos/df_TS.csv'\n",
    "df = pd.read_csv(ruta_archivo)\n",
    "df_check = df"
   ]
  },
  {
   "cell_type": "code",
   "execution_count": 8,
   "id": "1477ed83",
   "metadata": {},
   "outputs": [
    {
     "name": "stdout",
     "output_type": "stream",
     "text": [
      "(572162, 3) (63574, 3)\n"
     ]
    }
   ],
   "source": [
    "train_df = df_check.iloc[:int(len(df_check) * 0.9)]\n",
    "test_df = df_check.iloc[int(len(df_check) * 0.9):]\n",
    "print(train_df.shape, test_df.shape)"
   ]
  },
  {
   "cell_type": "code",
   "execution_count": 9,
   "id": "f631fd3c",
   "metadata": {},
   "outputs": [
    {
     "data": {
      "text/plain": [
       "array(['MinAmbiente', 'MovilFontibon', 'MovilSeptima', 'PuenteAranda',\n",
       "       'SanCristobal', 'Suba', 'Tunal', 'Usaquen', 'Usme',\n",
       "       'AltoRendimiento', 'Bolivia', 'CarvajalSevillana', 'CiudadBolivar',\n",
       "       'Colina', 'Fontibon', 'Guaymaral', 'Jazmin', 'Kennedy',\n",
       "       'LasFerias'], dtype=object)"
      ]
     },
     "execution_count": 9,
     "metadata": {},
     "output_type": "execute_result"
    }
   ],
   "source": [
    "station_test = test_df.Estacion.unique()\n",
    "station_test"
   ]
  },
  {
   "cell_type": "code",
   "execution_count": 23,
   "id": "b722968a",
   "metadata": {},
   "outputs": [
    {
     "data": {
      "text/html": [
       "<div>\n",
       "<style scoped>\n",
       "    .dataframe tbody tr th:only-of-type {\n",
       "        vertical-align: middle;\n",
       "    }\n",
       "\n",
       "    .dataframe tbody tr th {\n",
       "        vertical-align: top;\n",
       "    }\n",
       "\n",
       "    .dataframe thead th {\n",
       "        text-align: right;\n",
       "    }\n",
       "</style>\n",
       "<table border=\"1\" class=\"dataframe\">\n",
       "  <thead>\n",
       "    <tr style=\"text-align: right;\">\n",
       "      <th></th>\n",
       "      <th>DateTime</th>\n",
       "      <th>ICA</th>\n",
       "    </tr>\n",
       "  </thead>\n",
       "  <tbody>\n",
       "    <tr>\n",
       "      <th>11</th>\n",
       "      <td>2020-01-01 01:00:00</td>\n",
       "      <td>97.0</td>\n",
       "    </tr>\n",
       "    <tr>\n",
       "      <th>24</th>\n",
       "      <td>2020-01-01 02:00:00</td>\n",
       "      <td>104.0</td>\n",
       "    </tr>\n",
       "    <tr>\n",
       "      <th>37</th>\n",
       "      <td>2020-01-01 03:00:00</td>\n",
       "      <td>151.0</td>\n",
       "    </tr>\n",
       "    <tr>\n",
       "      <th>50</th>\n",
       "      <td>2020-01-01 04:00:00</td>\n",
       "      <td>128.0</td>\n",
       "    </tr>\n",
       "    <tr>\n",
       "      <th>63</th>\n",
       "      <td>2020-01-01 05:00:00</td>\n",
       "      <td>124.0</td>\n",
       "    </tr>\n",
       "    <tr>\n",
       "      <th>...</th>\n",
       "      <td>...</td>\n",
       "      <td>...</td>\n",
       "    </tr>\n",
       "    <tr>\n",
       "      <th>572073</th>\n",
       "      <td>2023-09-19 12:00:00</td>\n",
       "      <td>36.0</td>\n",
       "    </tr>\n",
       "    <tr>\n",
       "      <th>572092</th>\n",
       "      <td>2023-09-19 13:00:00</td>\n",
       "      <td>70.0</td>\n",
       "    </tr>\n",
       "    <tr>\n",
       "      <th>572111</th>\n",
       "      <td>2023-09-19 14:00:00</td>\n",
       "      <td>32.0</td>\n",
       "    </tr>\n",
       "    <tr>\n",
       "      <th>572130</th>\n",
       "      <td>2023-09-19 15:00:00</td>\n",
       "      <td>66.0</td>\n",
       "    </tr>\n",
       "    <tr>\n",
       "      <th>572149</th>\n",
       "      <td>2023-09-19 16:00:00</td>\n",
       "      <td>62.0</td>\n",
       "    </tr>\n",
       "  </tbody>\n",
       "</table>\n",
       "<p>32584 rows × 2 columns</p>\n",
       "</div>"
      ],
      "text/plain": [
       "                   DateTime    ICA\n",
       "11      2020-01-01 01:00:00   97.0\n",
       "24      2020-01-01 02:00:00  104.0\n",
       "37      2020-01-01 03:00:00  151.0\n",
       "50      2020-01-01 04:00:00  128.0\n",
       "63      2020-01-01 05:00:00  124.0\n",
       "...                     ...    ...\n",
       "572073  2023-09-19 12:00:00   36.0\n",
       "572092  2023-09-19 13:00:00   70.0\n",
       "572111  2023-09-19 14:00:00   32.0\n",
       "572130  2023-09-19 15:00:00   66.0\n",
       "572149  2023-09-19 16:00:00   62.0\n",
       "\n",
       "[32584 rows x 2 columns]"
      ]
     },
     "execution_count": 23,
     "metadata": {},
     "output_type": "execute_result"
    }
   ],
   "source": [
    "train_df = train_df[train_df.Estacion == station_test[6]]\n",
    "test_df = train_df[train_df.Estacion == station_test[6]]\n",
    "test_df = test_df.drop('Estacion', axis=1)\n",
    "train_df = train_df.drop('Estacion', axis=1)\n",
    "test_df"
   ]
  },
  {
   "cell_type": "code",
   "execution_count": null,
   "id": "bb56860b",
   "metadata": {},
   "outputs": [],
   "source": []
  }
 ],
 "metadata": {
  "kernelspec": {
   "display_name": "Python 3 (ipykernel)",
   "language": "python",
   "name": "python3"
  },
  "language_info": {
   "codemirror_mode": {
    "name": "ipython",
    "version": 3
   },
   "file_extension": ".py",
   "mimetype": "text/x-python",
   "name": "python",
   "nbconvert_exporter": "python",
   "pygments_lexer": "ipython3",
   "version": "3.11.5"
  }
 },
 "nbformat": 4,
 "nbformat_minor": 5
}
